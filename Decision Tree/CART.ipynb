{
 "cells": [
  {
   "cell_type": "code",
   "execution_count": 12,
   "id": "8d31b9a9",
   "metadata": {},
   "outputs": [],
   "source": [
    "import numpy as np\n",
    "import pandas as pd\n",
    "import matplotlib.pyplot as plt\n",
    "import seaborn as sns\n",
    "from sklearn.model_selection import train_test_split, GridSearchCV\n",
    "from sklearn.preprocessing import LabelEncoder\n",
    "from sklearn import tree\n",
    "from sklearn.tree import DecisionTreeClassifier, DecisionTreeRegressor\n",
    "%matplotlib inline"
   ]
  },
  {
   "cell_type": "code",
   "execution_count": 13,
   "id": "390c6b2a",
   "metadata": {},
   "outputs": [],
   "source": [
    "plt.rcParams['figure.figsize'] = (10,5)\n",
    "plt.rcParams['figure.dpi'] = 250"
   ]
  },
  {
   "cell_type": "code",
   "execution_count": 14,
   "id": "30e66d98",
   "metadata": {},
   "outputs": [
    {
     "data": {
      "text/html": [
       "<div>\n",
       "<style scoped>\n",
       "    .dataframe tbody tr th:only-of-type {\n",
       "        vertical-align: middle;\n",
       "    }\n",
       "\n",
       "    .dataframe tbody tr th {\n",
       "        vertical-align: top;\n",
       "    }\n",
       "\n",
       "    .dataframe thead th {\n",
       "        text-align: right;\n",
       "    }\n",
       "</style>\n",
       "<table border=\"1\" class=\"dataframe\">\n",
       "  <thead>\n",
       "    <tr style=\"text-align: right;\">\n",
       "      <th></th>\n",
       "      <th>Id</th>\n",
       "      <th>SepalLengthCm</th>\n",
       "      <th>SepalWidthCm</th>\n",
       "      <th>PetalLengthCm</th>\n",
       "      <th>PetalWidthCm</th>\n",
       "      <th>Species</th>\n",
       "    </tr>\n",
       "  </thead>\n",
       "  <tbody>\n",
       "    <tr>\n",
       "      <th>0</th>\n",
       "      <td>1</td>\n",
       "      <td>5.1</td>\n",
       "      <td>3.5</td>\n",
       "      <td>1.4</td>\n",
       "      <td>0.2</td>\n",
       "      <td>Iris-setosa</td>\n",
       "    </tr>\n",
       "    <tr>\n",
       "      <th>1</th>\n",
       "      <td>2</td>\n",
       "      <td>4.9</td>\n",
       "      <td>3.0</td>\n",
       "      <td>1.4</td>\n",
       "      <td>0.2</td>\n",
       "      <td>Iris-setosa</td>\n",
       "    </tr>\n",
       "    <tr>\n",
       "      <th>2</th>\n",
       "      <td>3</td>\n",
       "      <td>4.7</td>\n",
       "      <td>3.2</td>\n",
       "      <td>1.3</td>\n",
       "      <td>0.2</td>\n",
       "      <td>Iris-setosa</td>\n",
       "    </tr>\n",
       "    <tr>\n",
       "      <th>3</th>\n",
       "      <td>4</td>\n",
       "      <td>4.6</td>\n",
       "      <td>3.1</td>\n",
       "      <td>1.5</td>\n",
       "      <td>0.2</td>\n",
       "      <td>Iris-setosa</td>\n",
       "    </tr>\n",
       "    <tr>\n",
       "      <th>4</th>\n",
       "      <td>5</td>\n",
       "      <td>5.0</td>\n",
       "      <td>3.6</td>\n",
       "      <td>1.4</td>\n",
       "      <td>0.2</td>\n",
       "      <td>Iris-setosa</td>\n",
       "    </tr>\n",
       "    <tr>\n",
       "      <th>...</th>\n",
       "      <td>...</td>\n",
       "      <td>...</td>\n",
       "      <td>...</td>\n",
       "      <td>...</td>\n",
       "      <td>...</td>\n",
       "      <td>...</td>\n",
       "    </tr>\n",
       "    <tr>\n",
       "      <th>145</th>\n",
       "      <td>146</td>\n",
       "      <td>6.7</td>\n",
       "      <td>3.0</td>\n",
       "      <td>5.2</td>\n",
       "      <td>2.3</td>\n",
       "      <td>Iris-virginica</td>\n",
       "    </tr>\n",
       "    <tr>\n",
       "      <th>146</th>\n",
       "      <td>147</td>\n",
       "      <td>6.3</td>\n",
       "      <td>2.5</td>\n",
       "      <td>5.0</td>\n",
       "      <td>1.9</td>\n",
       "      <td>Iris-virginica</td>\n",
       "    </tr>\n",
       "    <tr>\n",
       "      <th>147</th>\n",
       "      <td>148</td>\n",
       "      <td>6.5</td>\n",
       "      <td>3.0</td>\n",
       "      <td>5.2</td>\n",
       "      <td>2.0</td>\n",
       "      <td>Iris-virginica</td>\n",
       "    </tr>\n",
       "    <tr>\n",
       "      <th>148</th>\n",
       "      <td>149</td>\n",
       "      <td>6.2</td>\n",
       "      <td>3.4</td>\n",
       "      <td>5.4</td>\n",
       "      <td>2.3</td>\n",
       "      <td>Iris-virginica</td>\n",
       "    </tr>\n",
       "    <tr>\n",
       "      <th>149</th>\n",
       "      <td>150</td>\n",
       "      <td>5.9</td>\n",
       "      <td>3.0</td>\n",
       "      <td>5.1</td>\n",
       "      <td>1.8</td>\n",
       "      <td>Iris-virginica</td>\n",
       "    </tr>\n",
       "  </tbody>\n",
       "</table>\n",
       "<p>150 rows × 6 columns</p>\n",
       "</div>"
      ],
      "text/plain": [
       "      Id  SepalLengthCm  SepalWidthCm  PetalLengthCm  PetalWidthCm  \\\n",
       "0      1            5.1           3.5            1.4           0.2   \n",
       "1      2            4.9           3.0            1.4           0.2   \n",
       "2      3            4.7           3.2            1.3           0.2   \n",
       "3      4            4.6           3.1            1.5           0.2   \n",
       "4      5            5.0           3.6            1.4           0.2   \n",
       "..   ...            ...           ...            ...           ...   \n",
       "145  146            6.7           3.0            5.2           2.3   \n",
       "146  147            6.3           2.5            5.0           1.9   \n",
       "147  148            6.5           3.0            5.2           2.0   \n",
       "148  149            6.2           3.4            5.4           2.3   \n",
       "149  150            5.9           3.0            5.1           1.8   \n",
       "\n",
       "            Species  \n",
       "0       Iris-setosa  \n",
       "1       Iris-setosa  \n",
       "2       Iris-setosa  \n",
       "3       Iris-setosa  \n",
       "4       Iris-setosa  \n",
       "..              ...  \n",
       "145  Iris-virginica  \n",
       "146  Iris-virginica  \n",
       "147  Iris-virginica  \n",
       "148  Iris-virginica  \n",
       "149  Iris-virginica  \n",
       "\n",
       "[150 rows x 6 columns]"
      ]
     },
     "execution_count": 14,
     "metadata": {},
     "output_type": "execute_result"
    }
   ],
   "source": [
    "df = pd.read_csv(\"Iris.csv\")\n",
    "df"
   ]
  },
  {
   "cell_type": "code",
   "execution_count": 15,
   "id": "28db4229",
   "metadata": {},
   "outputs": [],
   "source": [
    "x = df.iloc[:,:-1]\n",
    "y = df.iloc[:,-1]"
   ]
  },
  {
   "cell_type": "code",
   "execution_count": 16,
   "id": "af68554a",
   "metadata": {},
   "outputs": [],
   "source": [
    "le = LabelEncoder()\n",
    "y = le.fit_transform(y)"
   ]
  },
  {
   "cell_type": "code",
   "execution_count": 17,
   "id": "9e49bec0",
   "metadata": {},
   "outputs": [
    {
     "data": {
      "text/plain": [
       "array([0, 0, 0, 0, 0, 0, 0, 0, 0, 0, 0, 0, 0, 0, 0, 0, 0, 0, 0, 0, 0, 0,\n",
       "       0, 0, 0, 0, 0, 0, 0, 0, 0, 0, 0, 0, 0, 0, 0, 0, 0, 0, 0, 0, 0, 0,\n",
       "       0, 0, 0, 0, 0, 0, 1, 1, 1, 1, 1, 1, 1, 1, 1, 1, 1, 1, 1, 1, 1, 1,\n",
       "       1, 1, 1, 1, 1, 1, 1, 1, 1, 1, 1, 1, 1, 1, 1, 1, 1, 1, 1, 1, 1, 1,\n",
       "       1, 1, 1, 1, 1, 1, 1, 1, 1, 1, 1, 1, 2, 2, 2, 2, 2, 2, 2, 2, 2, 2,\n",
       "       2, 2, 2, 2, 2, 2, 2, 2, 2, 2, 2, 2, 2, 2, 2, 2, 2, 2, 2, 2, 2, 2,\n",
       "       2, 2, 2, 2, 2, 2, 2, 2, 2, 2, 2, 2, 2, 2, 2, 2, 2, 2])"
      ]
     },
     "execution_count": 17,
     "metadata": {},
     "output_type": "execute_result"
    }
   ],
   "source": [
    "y"
   ]
  },
  {
   "cell_type": "code",
   "execution_count": 18,
   "id": "67a8629b",
   "metadata": {},
   "outputs": [
    {
     "name": "stdout",
     "output_type": "stream",
     "text": [
      "              precision    recall  f1-score   support\n",
      "\n",
      "           0       1.00      1.00      1.00        11\n",
      "           1       1.00      0.92      0.96        13\n",
      "           2       0.86      1.00      0.92         6\n",
      "\n",
      "    accuracy                           0.97        30\n",
      "   macro avg       0.95      0.97      0.96        30\n",
      "weighted avg       0.97      0.97      0.97        30\n",
      "\n"
     ]
    }
   ],
   "source": [
    "xtrain, xtest, ytrain, ytest = train_test_split(x,y, test_size=0.2, random_state=1)\n",
    "\n",
    "dt = DecisionTreeClassifier(criterion='gini')\n",
    "dt.fit(xtrain,ytrain)\n",
    "ypred = dt.predict(xtest)\n",
    "\n",
    "from sklearn.metrics import classification_report\n",
    "\n",
    "print(classification_report(ytest,ypred))"
   ]
  },
  {
   "cell_type": "code",
   "execution_count": 19,
   "id": "590b0b62",
   "metadata": {},
   "outputs": [
    {
     "name": "stdout",
     "output_type": "stream",
     "text": [
      "1.0\n",
      "0.9666666666666667\n"
     ]
    }
   ],
   "source": [
    "print(dt.score(xtrain,ytrain))\n",
    "print(dt.score(xtest,ytest))"
   ]
  },
  {
   "cell_type": "markdown",
   "id": "79e6c808",
   "metadata": {},
   "source": [
    "#Regression"
   ]
  },
  {
   "cell_type": "code",
   "execution_count": 20,
   "id": "24fe9db3",
   "metadata": {},
   "outputs": [],
   "source": [
    "x = df.iloc[:,:-2]\n",
    "y = df.iloc[:,-2]"
   ]
  },
  {
   "cell_type": "code",
   "execution_count": 21,
   "id": "7c830783",
   "metadata": {},
   "outputs": [],
   "source": [
    "xtrain, xtest, ytrain, ytest = train_test_split(x,y, test_size=0.2, random_state=1)\n",
    "\n",
    "dt = DecisionTreeRegressor()\n",
    "dt.fit(xtrain,ytrain)\n",
    "ypred = dt.predict(xtest)"
   ]
  },
  {
   "cell_type": "code",
   "execution_count": 39,
   "id": "976bf50e",
   "metadata": {},
   "outputs": [
    {
     "name": "stdout",
     "output_type": "stream",
     "text": [
      "0.9085784987627166\n"
     ]
    }
   ],
   "source": [
    "from sklearn.metrics import r2_score\n",
    "\n",
    "print(r2_score(ytest,ypred))"
   ]
  },
  {
   "cell_type": "code",
   "execution_count": 25,
   "id": "2a494277",
   "metadata": {},
   "outputs": [
    {
     "name": "stdout",
     "output_type": "stream",
     "text": [
      "1.0\n",
      "0.9085784987627166\n"
     ]
    }
   ],
   "source": [
    "print(dt.score(xtrain,ytrain))\n",
    "print(dt.score(xtest,ytest))"
   ]
  },
  {
   "cell_type": "code",
   "execution_count": 26,
   "id": "d02aee68",
   "metadata": {},
   "outputs": [],
   "source": [
    "#HyperParameter Tuning"
   ]
  },
  {
   "cell_type": "code",
   "execution_count": 42,
   "id": "464e094b",
   "metadata": {},
   "outputs": [],
   "source": [
    "params = {\n",
    "    'criterion' : [\"squared_error\", \"absolute_error\"],\n",
    "    'splitter' : [\"random\", \"best\"],\n",
    "    'max_depth' : [2,3,4,5,6,7,8,9]\n",
    "}"
   ]
  },
  {
   "cell_type": "code",
   "execution_count": 43,
   "id": "04c6d0c9",
   "metadata": {},
   "outputs": [],
   "source": [
    "grid = GridSearchCV(DecisionTreeRegressor(), param_grid=params, verbose=2)"
   ]
  },
  {
   "cell_type": "code",
   "execution_count": 44,
   "id": "1f5b12ab",
   "metadata": {},
   "outputs": [
    {
     "name": "stdout",
     "output_type": "stream",
     "text": [
      "Fitting 5 folds for each of 32 candidates, totalling 160 fits\n",
      "[CV] END criterion=squared_error, max_depth=2, splitter=random; total time=   0.0s\n",
      "[CV] END criterion=squared_error, max_depth=2, splitter=random; total time=   0.0s\n",
      "[CV] END criterion=squared_error, max_depth=2, splitter=random; total time=   0.0s\n",
      "[CV] END criterion=squared_error, max_depth=2, splitter=random; total time=   0.0s\n",
      "[CV] END criterion=squared_error, max_depth=2, splitter=random; total time=   0.0s\n",
      "[CV] END criterion=squared_error, max_depth=2, splitter=best; total time=   0.0s\n",
      "[CV] END criterion=squared_error, max_depth=2, splitter=best; total time=   0.0s\n",
      "[CV] END criterion=squared_error, max_depth=2, splitter=best; total time=   0.0s\n",
      "[CV] END criterion=squared_error, max_depth=2, splitter=best; total time=   0.0s\n",
      "[CV] END criterion=squared_error, max_depth=2, splitter=best; total time=   0.0s\n",
      "[CV] END criterion=squared_error, max_depth=3, splitter=random; total time=   0.0s\n",
      "[CV] END criterion=squared_error, max_depth=3, splitter=random; total time=   0.0s\n",
      "[CV] END criterion=squared_error, max_depth=3, splitter=random; total time=   0.0s\n",
      "[CV] END criterion=squared_error, max_depth=3, splitter=random; total time=   0.0s\n",
      "[CV] END criterion=squared_error, max_depth=3, splitter=random; total time=   0.0s\n",
      "[CV] END criterion=squared_error, max_depth=3, splitter=best; total time=   0.0s\n",
      "[CV] END criterion=squared_error, max_depth=3, splitter=best; total time=   0.0s\n",
      "[CV] END criterion=squared_error, max_depth=3, splitter=best; total time=   0.0s\n",
      "[CV] END criterion=squared_error, max_depth=3, splitter=best; total time=   0.0s\n",
      "[CV] END criterion=squared_error, max_depth=3, splitter=best; total time=   0.0s\n",
      "[CV] END criterion=squared_error, max_depth=4, splitter=random; total time=   0.0s\n",
      "[CV] END criterion=squared_error, max_depth=4, splitter=random; total time=   0.0s\n",
      "[CV] END criterion=squared_error, max_depth=4, splitter=random; total time=   0.0s\n",
      "[CV] END criterion=squared_error, max_depth=4, splitter=random; total time=   0.0s\n",
      "[CV] END criterion=squared_error, max_depth=4, splitter=random; total time=   0.0s\n",
      "[CV] END criterion=squared_error, max_depth=4, splitter=best; total time=   0.0s\n",
      "[CV] END criterion=squared_error, max_depth=4, splitter=best; total time=   0.0s\n",
      "[CV] END criterion=squared_error, max_depth=4, splitter=best; total time=   0.0s\n",
      "[CV] END criterion=squared_error, max_depth=4, splitter=best; total time=   0.0s\n",
      "[CV] END criterion=squared_error, max_depth=4, splitter=best; total time=   0.0s\n",
      "[CV] END criterion=squared_error, max_depth=5, splitter=random; total time=   0.0s\n",
      "[CV] END criterion=squared_error, max_depth=5, splitter=random; total time=   0.0s\n",
      "[CV] END criterion=squared_error, max_depth=5, splitter=random; total time=   0.0s\n",
      "[CV] END criterion=squared_error, max_depth=5, splitter=random; total time=   0.0s\n",
      "[CV] END criterion=squared_error, max_depth=5, splitter=random; total time=   0.0s\n",
      "[CV] END criterion=squared_error, max_depth=5, splitter=best; total time=   0.0s\n",
      "[CV] END criterion=squared_error, max_depth=5, splitter=best; total time=   0.0s\n",
      "[CV] END criterion=squared_error, max_depth=5, splitter=best; total time=   0.0s\n",
      "[CV] END criterion=squared_error, max_depth=5, splitter=best; total time=   0.0s\n",
      "[CV] END criterion=squared_error, max_depth=5, splitter=best; total time=   0.0s\n",
      "[CV] END criterion=squared_error, max_depth=6, splitter=random; total time=   0.0s\n",
      "[CV] END criterion=squared_error, max_depth=6, splitter=random; total time=   0.0s\n",
      "[CV] END criterion=squared_error, max_depth=6, splitter=random; total time=   0.0s\n",
      "[CV] END criterion=squared_error, max_depth=6, splitter=random; total time=   0.0s\n",
      "[CV] END criterion=squared_error, max_depth=6, splitter=random; total time=   0.0s\n",
      "[CV] END criterion=squared_error, max_depth=6, splitter=best; total time=   0.0s\n",
      "[CV] END criterion=squared_error, max_depth=6, splitter=best; total time=   0.0s\n",
      "[CV] END criterion=squared_error, max_depth=6, splitter=best; total time=   0.0s\n",
      "[CV] END criterion=squared_error, max_depth=6, splitter=best; total time=   0.0s\n",
      "[CV] END criterion=squared_error, max_depth=6, splitter=best; total time=   0.0s\n",
      "[CV] END criterion=squared_error, max_depth=7, splitter=random; total time=   0.0s\n",
      "[CV] END criterion=squared_error, max_depth=7, splitter=random; total time=   0.0s\n",
      "[CV] END criterion=squared_error, max_depth=7, splitter=random; total time=   0.0s\n",
      "[CV] END criterion=squared_error, max_depth=7, splitter=random; total time=   0.0s\n",
      "[CV] END criterion=squared_error, max_depth=7, splitter=random; total time=   0.0s\n",
      "[CV] END criterion=squared_error, max_depth=7, splitter=best; total time=   0.0s\n",
      "[CV] END criterion=squared_error, max_depth=7, splitter=best; total time=   0.0s\n",
      "[CV] END criterion=squared_error, max_depth=7, splitter=best; total time=   0.0s\n",
      "[CV] END criterion=squared_error, max_depth=7, splitter=best; total time=   0.0s\n",
      "[CV] END criterion=squared_error, max_depth=7, splitter=best; total time=   0.0s\n",
      "[CV] END criterion=squared_error, max_depth=8, splitter=random; total time=   0.0s\n",
      "[CV] END criterion=squared_error, max_depth=8, splitter=random; total time=   0.0s\n",
      "[CV] END criterion=squared_error, max_depth=8, splitter=random; total time=   0.0s\n",
      "[CV] END criterion=squared_error, max_depth=8, splitter=random; total time=   0.0s\n",
      "[CV] END criterion=squared_error, max_depth=8, splitter=random; total time=   0.0s\n",
      "[CV] END criterion=squared_error, max_depth=8, splitter=best; total time=   0.0s\n",
      "[CV] END criterion=squared_error, max_depth=8, splitter=best; total time=   0.0s\n",
      "[CV] END criterion=squared_error, max_depth=8, splitter=best; total time=   0.0s\n",
      "[CV] END criterion=squared_error, max_depth=8, splitter=best; total time=   0.0s\n",
      "[CV] END criterion=squared_error, max_depth=8, splitter=best; total time=   0.0s\n",
      "[CV] END criterion=squared_error, max_depth=9, splitter=random; total time=   0.0s\n",
      "[CV] END criterion=squared_error, max_depth=9, splitter=random; total time=   0.0s\n",
      "[CV] END criterion=squared_error, max_depth=9, splitter=random; total time=   0.0s\n",
      "[CV] END criterion=squared_error, max_depth=9, splitter=random; total time=   0.0s\n",
      "[CV] END criterion=squared_error, max_depth=9, splitter=random; total time=   0.0s\n",
      "[CV] END criterion=squared_error, max_depth=9, splitter=best; total time=   0.0s\n",
      "[CV] END criterion=squared_error, max_depth=9, splitter=best; total time=   0.0s\n",
      "[CV] END criterion=squared_error, max_depth=9, splitter=best; total time=   0.0s\n",
      "[CV] END criterion=squared_error, max_depth=9, splitter=best; total time=   0.0s\n",
      "[CV] END criterion=squared_error, max_depth=9, splitter=best; total time=   0.0s\n",
      "[CV] END criterion=absolute_error, max_depth=2, splitter=random; total time=   0.0s\n",
      "[CV] END criterion=absolute_error, max_depth=2, splitter=random; total time=   0.0s\n",
      "[CV] END criterion=absolute_error, max_depth=2, splitter=random; total time=   0.0s\n",
      "[CV] END criterion=absolute_error, max_depth=2, splitter=random; total time=   0.0s\n",
      "[CV] END criterion=absolute_error, max_depth=2, splitter=random; total time=   0.0s\n",
      "[CV] END criterion=absolute_error, max_depth=2, splitter=best; total time=   0.0s\n",
      "[CV] END criterion=absolute_error, max_depth=2, splitter=best; total time=   0.0s\n",
      "[CV] END criterion=absolute_error, max_depth=2, splitter=best; total time=   0.0s\n",
      "[CV] END criterion=absolute_error, max_depth=2, splitter=best; total time=   0.0s\n",
      "[CV] END criterion=absolute_error, max_depth=2, splitter=best; total time=   0.0s\n",
      "[CV] END criterion=absolute_error, max_depth=3, splitter=random; total time=   0.0s\n",
      "[CV] END criterion=absolute_error, max_depth=3, splitter=random; total time=   0.0s\n",
      "[CV] END criterion=absolute_error, max_depth=3, splitter=random; total time=   0.0s\n",
      "[CV] END criterion=absolute_error, max_depth=3, splitter=random; total time=   0.0s\n",
      "[CV] END criterion=absolute_error, max_depth=3, splitter=random; total time=   0.0s\n",
      "[CV] END criterion=absolute_error, max_depth=3, splitter=best; total time=   0.0s\n",
      "[CV] END criterion=absolute_error, max_depth=3, splitter=best; total time=   0.0s\n",
      "[CV] END criterion=absolute_error, max_depth=3, splitter=best; total time=   0.0s\n",
      "[CV] END criterion=absolute_error, max_depth=3, splitter=best; total time=   0.0s\n",
      "[CV] END criterion=absolute_error, max_depth=3, splitter=best; total time=   0.0s\n",
      "[CV] END criterion=absolute_error, max_depth=4, splitter=random; total time=   0.0s\n",
      "[CV] END criterion=absolute_error, max_depth=4, splitter=random; total time=   0.0s\n",
      "[CV] END criterion=absolute_error, max_depth=4, splitter=random; total time=   0.0s\n",
      "[CV] END criterion=absolute_error, max_depth=4, splitter=random; total time=   0.0s\n",
      "[CV] END criterion=absolute_error, max_depth=4, splitter=random; total time=   0.0s\n",
      "[CV] END criterion=absolute_error, max_depth=4, splitter=best; total time=   0.0s\n",
      "[CV] END criterion=absolute_error, max_depth=4, splitter=best; total time=   0.0s\n",
      "[CV] END criterion=absolute_error, max_depth=4, splitter=best; total time=   0.0s\n",
      "[CV] END criterion=absolute_error, max_depth=4, splitter=best; total time=   0.0s\n",
      "[CV] END criterion=absolute_error, max_depth=4, splitter=best; total time=   0.0s\n",
      "[CV] END criterion=absolute_error, max_depth=5, splitter=random; total time=   0.0s\n",
      "[CV] END criterion=absolute_error, max_depth=5, splitter=random; total time=   0.0s\n",
      "[CV] END criterion=absolute_error, max_depth=5, splitter=random; total time=   0.0s\n",
      "[CV] END criterion=absolute_error, max_depth=5, splitter=random; total time=   0.0s\n",
      "[CV] END criterion=absolute_error, max_depth=5, splitter=random; total time=   0.0s\n",
      "[CV] END criterion=absolute_error, max_depth=5, splitter=best; total time=   0.0s\n",
      "[CV] END criterion=absolute_error, max_depth=5, splitter=best; total time=   0.0s\n",
      "[CV] END criterion=absolute_error, max_depth=5, splitter=best; total time=   0.0s\n",
      "[CV] END criterion=absolute_error, max_depth=5, splitter=best; total time=   0.0s\n",
      "[CV] END criterion=absolute_error, max_depth=5, splitter=best; total time=   0.0s\n",
      "[CV] END criterion=absolute_error, max_depth=6, splitter=random; total time=   0.0s\n",
      "[CV] END criterion=absolute_error, max_depth=6, splitter=random; total time=   0.0s\n",
      "[CV] END criterion=absolute_error, max_depth=6, splitter=random; total time=   0.0s\n",
      "[CV] END criterion=absolute_error, max_depth=6, splitter=random; total time=   0.0s\n",
      "[CV] END criterion=absolute_error, max_depth=6, splitter=random; total time=   0.0s\n",
      "[CV] END criterion=absolute_error, max_depth=6, splitter=best; total time=   0.0s\n",
      "[CV] END criterion=absolute_error, max_depth=6, splitter=best; total time=   0.0s\n",
      "[CV] END criterion=absolute_error, max_depth=6, splitter=best; total time=   0.0s\n",
      "[CV] END criterion=absolute_error, max_depth=6, splitter=best; total time=   0.0s\n",
      "[CV] END criterion=absolute_error, max_depth=6, splitter=best; total time=   0.0s\n",
      "[CV] END criterion=absolute_error, max_depth=7, splitter=random; total time=   0.0s\n",
      "[CV] END criterion=absolute_error, max_depth=7, splitter=random; total time=   0.0s\n",
      "[CV] END criterion=absolute_error, max_depth=7, splitter=random; total time=   0.0s\n",
      "[CV] END criterion=absolute_error, max_depth=7, splitter=random; total time=   0.0s\n",
      "[CV] END criterion=absolute_error, max_depth=7, splitter=random; total time=   0.0s\n",
      "[CV] END criterion=absolute_error, max_depth=7, splitter=best; total time=   0.0s\n"
     ]
    },
    {
     "name": "stdout",
     "output_type": "stream",
     "text": [
      "[CV] END criterion=absolute_error, max_depth=7, splitter=best; total time=   0.0s\n",
      "[CV] END criterion=absolute_error, max_depth=7, splitter=best; total time=   0.0s\n",
      "[CV] END criterion=absolute_error, max_depth=7, splitter=best; total time=   0.0s\n",
      "[CV] END criterion=absolute_error, max_depth=7, splitter=best; total time=   0.0s\n",
      "[CV] END criterion=absolute_error, max_depth=8, splitter=random; total time=   0.0s\n",
      "[CV] END criterion=absolute_error, max_depth=8, splitter=random; total time=   0.0s\n",
      "[CV] END criterion=absolute_error, max_depth=8, splitter=random; total time=   0.0s\n",
      "[CV] END criterion=absolute_error, max_depth=8, splitter=random; total time=   0.0s\n",
      "[CV] END criterion=absolute_error, max_depth=8, splitter=random; total time=   0.0s\n",
      "[CV] END criterion=absolute_error, max_depth=8, splitter=best; total time=   0.0s\n",
      "[CV] END criterion=absolute_error, max_depth=8, splitter=best; total time=   0.0s\n",
      "[CV] END criterion=absolute_error, max_depth=8, splitter=best; total time=   0.0s\n",
      "[CV] END criterion=absolute_error, max_depth=8, splitter=best; total time=   0.0s\n",
      "[CV] END criterion=absolute_error, max_depth=8, splitter=best; total time=   0.0s\n",
      "[CV] END criterion=absolute_error, max_depth=9, splitter=random; total time=   0.0s\n",
      "[CV] END criterion=absolute_error, max_depth=9, splitter=random; total time=   0.0s\n",
      "[CV] END criterion=absolute_error, max_depth=9, splitter=random; total time=   0.0s\n",
      "[CV] END criterion=absolute_error, max_depth=9, splitter=random; total time=   0.0s\n",
      "[CV] END criterion=absolute_error, max_depth=9, splitter=random; total time=   0.0s\n",
      "[CV] END criterion=absolute_error, max_depth=9, splitter=best; total time=   0.0s\n",
      "[CV] END criterion=absolute_error, max_depth=9, splitter=best; total time=   0.0s\n",
      "[CV] END criterion=absolute_error, max_depth=9, splitter=best; total time=   0.0s\n",
      "[CV] END criterion=absolute_error, max_depth=9, splitter=best; total time=   0.0s\n",
      "[CV] END criterion=absolute_error, max_depth=9, splitter=best; total time=   0.0s\n"
     ]
    },
    {
     "data": {
      "text/plain": [
       "GridSearchCV(estimator=DecisionTreeRegressor(),\n",
       "             param_grid={'criterion': ['squared_error', 'absolute_error'],\n",
       "                         'max_depth': [2, 3, 4, 5, 6, 7, 8, 9],\n",
       "                         'splitter': ['random', 'best']},\n",
       "             verbose=2)"
      ]
     },
     "execution_count": 44,
     "metadata": {},
     "output_type": "execute_result"
    }
   ],
   "source": [
    "grid.fit(xtrain, ytrain)"
   ]
  },
  {
   "cell_type": "code",
   "execution_count": 45,
   "id": "49e98842",
   "metadata": {},
   "outputs": [
    {
     "data": {
      "text/plain": [
       "{'criterion': 'absolute_error', 'max_depth': 4, 'splitter': 'best'}"
      ]
     },
     "execution_count": 45,
     "metadata": {},
     "output_type": "execute_result"
    }
   ],
   "source": [
    "grid.best_params_"
   ]
  },
  {
   "cell_type": "markdown",
   "id": "4d39ad19",
   "metadata": {},
   "source": [
    "Final Model"
   ]
  },
  {
   "cell_type": "code",
   "execution_count": 46,
   "id": "3f6007f9",
   "metadata": {},
   "outputs": [
    {
     "ename": "ValueError",
     "evalue": "Unknown label type: 'continuous'",
     "output_type": "error",
     "traceback": [
      "\u001b[1;31m---------------------------------------------------------------------------\u001b[0m",
      "\u001b[1;31mValueError\u001b[0m                                Traceback (most recent call last)",
      "\u001b[1;32m~\\AppData\\Local\\Temp\\ipykernel_12204\\2147413094.py\u001b[0m in \u001b[0;36m<module>\u001b[1;34m\u001b[0m\n\u001b[0;32m      1\u001b[0m \u001b[0mdt\u001b[0m \u001b[1;33m=\u001b[0m \u001b[0mDecisionTreeClassifier\u001b[0m\u001b[1;33m(\u001b[0m\u001b[0mcriterion\u001b[0m\u001b[1;33m=\u001b[0m\u001b[1;34m\"absolute_error\"\u001b[0m\u001b[1;33m,\u001b[0m \u001b[0mmax_depth\u001b[0m\u001b[1;33m=\u001b[0m\u001b[1;36m4\u001b[0m\u001b[1;33m,\u001b[0m \u001b[0msplitter\u001b[0m\u001b[1;33m=\u001b[0m\u001b[1;34m\"best\"\u001b[0m\u001b[1;33m)\u001b[0m\u001b[1;33m\u001b[0m\u001b[1;33m\u001b[0m\u001b[0m\n\u001b[1;32m----> 2\u001b[1;33m \u001b[0mdt\u001b[0m\u001b[1;33m.\u001b[0m\u001b[0mfit\u001b[0m\u001b[1;33m(\u001b[0m\u001b[0mxtrain\u001b[0m\u001b[1;33m,\u001b[0m\u001b[0mytrain\u001b[0m\u001b[1;33m)\u001b[0m\u001b[1;33m\u001b[0m\u001b[1;33m\u001b[0m\u001b[0m\n\u001b[0m\u001b[0;32m      3\u001b[0m \u001b[0mypred\u001b[0m \u001b[1;33m=\u001b[0m \u001b[0mdt\u001b[0m\u001b[1;33m.\u001b[0m\u001b[0mpredict\u001b[0m\u001b[1;33m(\u001b[0m\u001b[0mxtest\u001b[0m\u001b[1;33m)\u001b[0m\u001b[1;33m\u001b[0m\u001b[1;33m\u001b[0m\u001b[0m\n",
      "\u001b[1;32mE:\\Anaconda\\lib\\site-packages\\sklearn\\tree\\_classes.py\u001b[0m in \u001b[0;36mfit\u001b[1;34m(self, X, y, sample_weight, check_input, X_idx_sorted)\u001b[0m\n\u001b[0;32m    935\u001b[0m         \"\"\"\n\u001b[0;32m    936\u001b[0m \u001b[1;33m\u001b[0m\u001b[0m\n\u001b[1;32m--> 937\u001b[1;33m         super().fit(\n\u001b[0m\u001b[0;32m    938\u001b[0m             \u001b[0mX\u001b[0m\u001b[1;33m,\u001b[0m\u001b[1;33m\u001b[0m\u001b[1;33m\u001b[0m\u001b[0m\n\u001b[0;32m    939\u001b[0m             \u001b[0my\u001b[0m\u001b[1;33m,\u001b[0m\u001b[1;33m\u001b[0m\u001b[1;33m\u001b[0m\u001b[0m\n",
      "\u001b[1;32mE:\\Anaconda\\lib\\site-packages\\sklearn\\tree\\_classes.py\u001b[0m in \u001b[0;36mfit\u001b[1;34m(self, X, y, sample_weight, check_input, X_idx_sorted)\u001b[0m\n\u001b[0;32m    201\u001b[0m \u001b[1;33m\u001b[0m\u001b[0m\n\u001b[0;32m    202\u001b[0m         \u001b[1;32mif\u001b[0m \u001b[0mis_classification\u001b[0m\u001b[1;33m:\u001b[0m\u001b[1;33m\u001b[0m\u001b[1;33m\u001b[0m\u001b[0m\n\u001b[1;32m--> 203\u001b[1;33m             \u001b[0mcheck_classification_targets\u001b[0m\u001b[1;33m(\u001b[0m\u001b[0my\u001b[0m\u001b[1;33m)\u001b[0m\u001b[1;33m\u001b[0m\u001b[1;33m\u001b[0m\u001b[0m\n\u001b[0m\u001b[0;32m    204\u001b[0m             \u001b[0my\u001b[0m \u001b[1;33m=\u001b[0m \u001b[0mnp\u001b[0m\u001b[1;33m.\u001b[0m\u001b[0mcopy\u001b[0m\u001b[1;33m(\u001b[0m\u001b[0my\u001b[0m\u001b[1;33m)\u001b[0m\u001b[1;33m\u001b[0m\u001b[1;33m\u001b[0m\u001b[0m\n\u001b[0;32m    205\u001b[0m \u001b[1;33m\u001b[0m\u001b[0m\n",
      "\u001b[1;32mE:\\Anaconda\\lib\\site-packages\\sklearn\\utils\\multiclass.py\u001b[0m in \u001b[0;36mcheck_classification_targets\u001b[1;34m(y)\u001b[0m\n\u001b[0;32m    195\u001b[0m         \u001b[1;34m\"multilabel-sequences\"\u001b[0m\u001b[1;33m,\u001b[0m\u001b[1;33m\u001b[0m\u001b[1;33m\u001b[0m\u001b[0m\n\u001b[0;32m    196\u001b[0m     ]:\n\u001b[1;32m--> 197\u001b[1;33m         \u001b[1;32mraise\u001b[0m \u001b[0mValueError\u001b[0m\u001b[1;33m(\u001b[0m\u001b[1;34m\"Unknown label type: %r\"\u001b[0m \u001b[1;33m%\u001b[0m \u001b[0my_type\u001b[0m\u001b[1;33m)\u001b[0m\u001b[1;33m\u001b[0m\u001b[1;33m\u001b[0m\u001b[0m\n\u001b[0m\u001b[0;32m    198\u001b[0m \u001b[1;33m\u001b[0m\u001b[0m\n\u001b[0;32m    199\u001b[0m \u001b[1;33m\u001b[0m\u001b[0m\n",
      "\u001b[1;31mValueError\u001b[0m: Unknown label type: 'continuous'"
     ]
    }
   ],
   "source": [
    "dt = DecisionTreeClassifier(criterion=\"absolute_error\", max_depth=4, splitter=\"best\")\n",
    "dt.fit(xtrain,ytrain)\n",
    "ypred = dt.predict(xtest)\n"
   ]
  },
  {
   "cell_type": "code",
   "execution_count": null,
   "id": "6c0aedfb",
   "metadata": {},
   "outputs": [],
   "source": [
    "tree.plot_tree(dt, filled=True, feature_names=x.columns)\n",
    "plt.show()"
   ]
  },
  {
   "cell_type": "code",
   "execution_count": null,
   "id": "a0cb437a",
   "metadata": {},
   "outputs": [],
   "source": []
  }
 ],
 "metadata": {
  "kernelspec": {
   "display_name": "Python 3 (ipykernel)",
   "language": "python",
   "name": "python3"
  },
  "language_info": {
   "codemirror_mode": {
    "name": "ipython",
    "version": 3
   },
   "file_extension": ".py",
   "mimetype": "text/x-python",
   "name": "python",
   "nbconvert_exporter": "python",
   "pygments_lexer": "ipython3",
   "version": "3.9.13"
  }
 },
 "nbformat": 4,
 "nbformat_minor": 5
}
