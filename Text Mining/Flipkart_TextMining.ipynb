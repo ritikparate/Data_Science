{
 "cells": [
  {
   "cell_type": "code",
   "execution_count": 143,
   "metadata": {
    "id": "_6wrYBOkcwyM"
   },
   "outputs": [],
   "source": [
    "# Importing Required Libraries\n",
    "import numpy as np \n",
    "import pandas as pd \n",
    "import string \n",
    "import spacy \n",
    "import time\n",
    "\n",
    "#Importing Data Visualization Libraries\n",
    "from matplotlib.pyplot import imread\n",
    "from matplotlib import pyplot as plt\n",
    "from wordcloud import WordCloud\n",
    "%matplotlib inline"
   ]
  },
  {
   "cell_type": "code",
   "execution_count": 144,
   "metadata": {
    "id": "7rav7WGVc09e"
   },
   "outputs": [],
   "source": [
    "def get_Soup(url):\n",
    "    while True:\n",
    "        req = Request(url, headers={'User-Agent': 'Chrome'})\n",
    "        try:\n",
    "            webpage = urlopen(req).read()\n",
    "            soup =  BeautifulSoup(webpage, 'html.parser')\n",
    "            return soup\n",
    "        except:\n",
    "            pass"
   ]
  },
  {
   "cell_type": "code",
   "execution_count": 145,
   "metadata": {
    "id": "LkJXvxIcc8qQ"
   },
   "outputs": [],
   "source": [
    "def get_review(name,id,pid,lid):\n",
    "    \n",
    "    # reviews's data \n",
    "    data ={'Review':[]}\n",
    "    \n",
    "    # to read multiple page \n",
    "    pg=1\n",
    "    while True:\n",
    "        \n",
    "        # make url with name and id\n",
    "        url = \"https://www.flipkart.com/noise-colorfit-pro-3-smartwatch/product-reviews/itm2e817033f1466?pid=SMWFY8QMY3YQJT7T&lid=LSTSMWFY8QMY3YQJT7T8IR1RK&marketplace=FLIPKART\".format(name,id,pid,lid,pg)\n",
    "        #increment of page\n",
    "        pg+=1\n",
    "        # retrive soup object\n",
    "        soup = get_Soup(url)\n",
    "        \n",
    "        # retrive next button of page\n",
    "        next = soup.find('a',class_='_1LKTO3')\n",
    "        #collect all reviews post\n",
    "        reviews = soup.find_all('div',class_='_27M-vq')\n",
    "        # iterate individual review\n",
    "        for rev in reviews:\n",
    "            data['Review'].append(rev.find('div', class_=\"t-ZTKy\").div.text.strip())\n",
    "        # check next page is disable or not\n",
    "        if next:\n",
    "            pass\n",
    "        else:\n",
    "            flipkart = pd.DataFrame(data)\n",
    "            flipkart.to_csv('{}.csv'.format(name))\n",
    "            print('{}.csv file successfully save !'.format(id))\n",
    "            return \n",
    "        time.sleep(10)"
   ]
  },
  {
   "cell_type": "code",
   "execution_count": 146,
   "metadata": {
    "colab": {
     "base_uri": "https://localhost:8080/",
     "height": 48
    },
    "id": "cI9qvCnb3dJJ",
    "outputId": "20f5e785-607b-48aa-bdba-9dd115b467c8"
   },
   "outputs": [
    {
     "data": {
      "text/html": [
       "<div>\n",
       "<style scoped>\n",
       "    .dataframe tbody tr th:only-of-type {\n",
       "        vertical-align: middle;\n",
       "    }\n",
       "\n",
       "    .dataframe tbody tr th {\n",
       "        vertical-align: top;\n",
       "    }\n",
       "\n",
       "    .dataframe thead th {\n",
       "        text-align: right;\n",
       "    }\n",
       "</style>\n",
       "<table border=\"1\" class=\"dataframe\">\n",
       "  <thead>\n",
       "    <tr style=\"text-align: right;\">\n",
       "      <th></th>\n",
       "      <th>Unnamed: 0</th>\n",
       "      <th>Review</th>\n",
       "    </tr>\n",
       "  </thead>\n",
       "  <tbody>\n",
       "  </tbody>\n",
       "</table>\n",
       "</div>"
      ],
      "text/plain": [
       "Empty DataFrame\n",
       "Columns: [Unnamed: 0, Review]\n",
       "Index: []"
      ]
     },
     "execution_count": 146,
     "metadata": {},
     "output_type": "execute_result"
    }
   ],
   "source": [
    "flipkart"
   ]
  },
  {
   "cell_type": "code",
   "execution_count": 147,
   "metadata": {
    "id": "VpC9AocPdP_G"
   },
   "outputs": [],
   "source": [
    "import json\n",
    "import ssl\n",
    "from urllib.request import Request, urlopen\n",
    "from bs4 import BeautifulSoup\n",
    "\n",
    "ctx=ssl.create_default_context()\n",
    "ctx.check_hostname=False\n",
    "ctx.verify_mode = ssl.CERT_NONE"
   ]
  },
  {
   "cell_type": "code",
   "execution_count": 148,
   "metadata": {
    "colab": {
     "base_uri": "https://localhost:8080/"
    },
    "id": "713D0xb0dGw5",
    "outputId": "65d549be-4934-46dc-cd9b-f69e109f3c29"
   },
   "outputs": [
    {
     "name": "stdout",
     "output_type": "stream",
     "text": [
      "itm2e817033f1466.csv file successfully save !\n"
     ]
    }
   ],
   "source": [
    "name=\"noise-colorfit-pro-3-smartwatch\"\n",
    "id=\"itm2e817033f1466\"\n",
    "pid=\"SMWFY8QMY3YQJT7T\"\n",
    "lid=\"LSTSMWFY8QMY3YQJT7T8IR1RK\"\n",
    "\n",
    "get_review(name,id,pid,lid)"
   ]
  },
  {
   "cell_type": "code",
   "execution_count": 150,
   "metadata": {
    "colab": {
     "base_uri": "https://localhost:8080/",
     "height": 414
    },
    "id": "6BmxfjkNdJzF",
    "outputId": "7dca7d10-ecd1-4daa-eba6-c7fa4e8677d5"
   },
   "outputs": [
    {
     "data": {
      "text/html": [
       "<div>\n",
       "<style scoped>\n",
       "    .dataframe tbody tr th:only-of-type {\n",
       "        vertical-align: middle;\n",
       "    }\n",
       "\n",
       "    .dataframe tbody tr th {\n",
       "        vertical-align: top;\n",
       "    }\n",
       "\n",
       "    .dataframe thead th {\n",
       "        text-align: right;\n",
       "    }\n",
       "</style>\n",
       "<table border=\"1\" class=\"dataframe\">\n",
       "  <thead>\n",
       "    <tr style=\"text-align: right;\">\n",
       "      <th></th>\n",
       "      <th>Unnamed: 0</th>\n",
       "      <th>Review</th>\n",
       "    </tr>\n",
       "  </thead>\n",
       "  <tbody>\n",
       "    <tr>\n",
       "      <th>0</th>\n",
       "      <td>0</td>\n",
       "      <td>Awesome - 3rd Gen from the noise is as expecte...</td>\n",
       "    </tr>\n",
       "    <tr>\n",
       "      <th>1</th>\n",
       "      <td>1</td>\n",
       "      <td>Eye catching watch. Really beautiful specially...</td>\n",
       "    </tr>\n",
       "    <tr>\n",
       "      <th>2</th>\n",
       "      <td>2</td>\n",
       "      <td>Color fit pro3 is best and best watch!!It's a ...</td>\n",
       "    </tr>\n",
       "    <tr>\n",
       "      <th>3</th>\n",
       "      <td>3</td>\n",
       "      <td>One of the best budget Smartwatch . It has all...</td>\n",
       "    </tr>\n",
       "    <tr>\n",
       "      <th>4</th>\n",
       "      <td>4</td>\n",
       "      <td>Smart watch with premium look , nice features ...</td>\n",
       "    </tr>\n",
       "    <tr>\n",
       "      <th>...</th>\n",
       "      <td>...</td>\n",
       "      <td>...</td>\n",
       "    </tr>\n",
       "    <tr>\n",
       "      <th>145</th>\n",
       "      <td>145</td>\n",
       "      <td>I am using this product on my iphone ... it is...</td>\n",
       "    </tr>\n",
       "    <tr>\n",
       "      <th>146</th>\n",
       "      <td>146</td>\n",
       "      <td>Pros-- accurate values- Feels premium except f...</td>\n",
       "    </tr>\n",
       "    <tr>\n",
       "      <th>147</th>\n",
       "      <td>147</td>\n",
       "      <td>This price range the best smart watch....Pro's...</td>\n",
       "    </tr>\n",
       "    <tr>\n",
       "      <th>148</th>\n",
       "      <td>148</td>\n",
       "      <td>I am very happy with the product, firstly i pu...</td>\n",
       "    </tr>\n",
       "    <tr>\n",
       "      <th>149</th>\n",
       "      <td>149</td>\n",
       "      <td>Writing this review after using it for a few d...</td>\n",
       "    </tr>\n",
       "  </tbody>\n",
       "</table>\n",
       "<p>150 rows × 2 columns</p>\n",
       "</div>"
      ],
      "text/plain": [
       "     Unnamed: 0                                             Review\n",
       "0             0  Awesome - 3rd Gen from the noise is as expecte...\n",
       "1             1  Eye catching watch. Really beautiful specially...\n",
       "2             2  Color fit pro3 is best and best watch!!It's a ...\n",
       "3             3  One of the best budget Smartwatch . It has all...\n",
       "4             4  Smart watch with premium look , nice features ...\n",
       "..          ...                                                ...\n",
       "145         145  I am using this product on my iphone ... it is...\n",
       "146         146  Pros-- accurate values- Feels premium except f...\n",
       "147         147  This price range the best smart watch....Pro's...\n",
       "148         148  I am very happy with the product, firstly i pu...\n",
       "149         149  Writing this review after using it for a few d...\n",
       "\n",
       "[150 rows x 2 columns]"
      ]
     },
     "execution_count": 150,
     "metadata": {},
     "output_type": "execute_result"
    }
   ],
   "source": [
    "flipkart = pd.read_csv('/content/noise-colorfit-pro-3-smartwatch.csv', encoding='latin1')\n",
    "flipkart"
   ]
  },
  {
   "cell_type": "markdown",
   "metadata": {},
   "source": [
    "# EDA"
   ]
  },
  {
   "cell_type": "code",
   "execution_count": 151,
   "metadata": {
    "colab": {
     "base_uri": "https://localhost:8080/"
    },
    "id": "opwwPhKidgDC",
    "outputId": "fe8123ec-5f05-4bcf-94cb-0c281350c25d"
   },
   "outputs": [
    {
     "data": {
      "text/plain": [
       "['Awesome - 3rd Gen from the noise is as expected it give you an awesome experience. Great work guysREAD MORE',\n",
       " \"Eye catching watch. Really beautiful specially this rose gold colour is so fascinating. Must got for this watch. For the price it's great. Just a little lage may be coz I'm an iPhone user . Else it's fabulousREAD MORE\",\n",
       " \"Color fit pro3 is best and best watch!!It's a gift for me..i love it.The watch is good in everything like display, its tracking activity overall fit perfect in wrist just go for it!READ MORE\",\n",
       " 'One of the best budget Smartwatch . It has all the necessary features in this price range . Heart rate and the other monitoring feature showâ\\x80\\x99s the accurate results . Very happy with the product â\\x9d¤ï¸\\x8fTips : In the beginning charge it full to get better results.READ MORE',\n",
       " 'Smart watch with premium look , nice features , gud quality and also in affordable price..i love it â\\x9d¤ï¸\\x8fREAD MORE',\n",
       " 'I am using this product on my iphone ... it is so cool. I have also used today in gym it shows good activity tracking also has best display really loved it. And the notifications systems are so great . Totally the product is best in this price and display really loved full star â\\xad\\x90ï¸\\x8f . Thank uh NoiseFitREAD MORE',\n",
       " \"Pros-- accurate values- Feels premium except for the power button-Decent battery life(4-5 days with 24/7 health monitoring system)- good display..... Can't compete with amoleds but for a LCD it's too good- good watch faces-very light Cons- bluetooth connection is not that stable , like it keeps connecting and disconnecting when u pair your phone with a third device - I wish I could accept and silent the calls also when the phone is connected to my airdopes.Verdict- I like it very ...READ MORE\",\n",
       " \"This price range the best smart watch....Pro's : 1 Display superb 5/52 build quality 5/53 strap quality also good 4/54 other all futures are superb so good 4/55 user friendly 5/5Con's :1 connectivity issues some times disconnected automatically 2.5/5 2 battery backup not good drains little bit quickly. 3/5Overall at this price range superb watch ......READ MORE\",\n",
       " 'I am very happy with the product, firstly i purchased amazfit bip u but it was a bad decision, had lot of issues with disconnecting, gesture wakeup  not working. So i returned it and purchased this beautiful watch, it looks similar to Apple watch and once i paired it with my phone it works perfectly without any issue. Battery is not up to mark but other features are working perfectly.Pros: Big display with smooth touch experience          Call and msg notifications are working fine       ...READ MORE',\n",
       " 'Writing this review after using it for a few days. Buy this watch only if you want to go after the looks. Itâ\\x80\\x99s good only to view the time. The step count function doesnâ\\x80\\x99t work properly and the syncing with the app is very poor. Also, cannot reject calls from the watch. Not sure of other functions but if the basic step function doesnâ\\x80\\x99t work properly, I donâ\\x80\\x99t see why one should buy it.READ MORE']"
      ]
     },
     "execution_count": 151,
     "metadata": {},
     "output_type": "execute_result"
    }
   ],
   "source": [
    "flipkart = [Review.strip() for Review in flipkart.Review] # remove both the leading and the trailing characters\n",
    "flipkart = [Review for Review in flipkart if Review] # removes empty strings, because they are considered in Python as False\n",
    "flipkart[0:10]"
   ]
  },
  {
   "cell_type": "code",
   "execution_count": 152,
   "metadata": {
    "colab": {
     "base_uri": "https://localhost:8080/",
     "height": 106
    },
    "id": "DlT50xPBotLW",
    "outputId": "48035c39-e49b-4725-af69-8ca58c3b0c4d"
   },
   "outputs": [
    {
     "name": "stderr",
     "output_type": "stream",
     "text": [
      "/usr/lib/python3.7/runpy.py:193: UserWarning: [W006] No entities to visualize found in Doc object. If this is surprising to you, make sure the Doc was processed using a model that supports named entity recognition, and check the `doc.ents` property manually if necessary.\n",
      "  \"__main__\", mod_spec)\n"
     ]
    },
    {
     "data": {
      "text/html": [
       "<span class=\"tex2jax_ignore\"><div class=\"entities\" style=\"line-height: 2.5; direction: ltr\">Color fit pro3 is best and best watch!!It's a gift for me..i love it.The watch is good in everything like display, its tracking activity overall fit perfect in wrist just go for it!READ MORE</div></span>"
      ],
      "text/plain": [
       "<IPython.core.display.HTML object>"
      ]
     },
     "metadata": {},
     "output_type": "display_data"
    }
   ],
   "source": [
    "##Part Of Speech Tagging\n",
    "nlp = spacy.load('en')\n",
    "\n",
    "one_block = flipkart[2]\n",
    "doc_block = nlp(one_block)\n",
    "spacy.displacy.render(doc_block, style='ent', jupyter=True)"
   ]
  },
  {
   "cell_type": "code",
   "execution_count": 153,
   "metadata": {
    "colab": {
     "base_uri": "https://localhost:8080/",
     "height": 35
    },
    "id": "Z5Ym5FrrqBYt",
    "outputId": "d15c06f6-1185-4ba3-87ea-8da24e093468"
   },
   "outputs": [
    {
     "data": {
      "application/vnd.google.colaboratory.intrinsic+json": {
       "type": "string"
      },
      "text/plain": [
       "\"Color fit pro3 is best and best watch!!It's a gift for me..i love it.The watch is good in everything like display, its tracking activity overall fit perfect in wrist just go for it!READ MORE\""
      ]
     },
     "execution_count": 153,
     "metadata": {},
     "output_type": "execute_result"
    }
   ],
   "source": [
    "one_block"
   ]
  },
  {
   "cell_type": "code",
   "execution_count": 154,
   "metadata": {
    "colab": {
     "base_uri": "https://localhost:8080/"
    },
    "id": "Mp1ljA9tqKN4",
    "outputId": "90b6df62-eaee-4d63-c459-0be5adb613e8"
   },
   "outputs": [
    {
     "name": "stdout",
     "output_type": "stream",
     "text": [
      "Color NOUN\n",
      "fit ADJ\n",
      "pro3 NOUN\n",
      "is AUX\n",
      "best ADJ\n",
      "and CCONJ\n",
      "best ADJ\n",
      "watch!!It PROPN\n",
      "'s AUX\n",
      "a DET\n",
      "gift NOUN\n",
      "for ADP\n",
      "me PRON\n",
      ".. PUNCT\n",
      "i PRON\n",
      "love VERB\n",
      "it PRON\n",
      ". PUNCT\n",
      "The DET\n",
      "watch NOUN\n"
     ]
    }
   ],
   "source": [
    "for token in doc_block[0:20]:\n",
    "    print(token, token.pos_)"
   ]
  },
  {
   "cell_type": "code",
   "execution_count": 155,
   "metadata": {
    "colab": {
     "base_uri": "https://localhost:8080/"
    },
    "id": "XVpMzvKsqPZw",
    "outputId": "ec2208e2-1383-41b5-f6ae-fae501c46821"
   },
   "outputs": [
    {
     "name": "stdout",
     "output_type": "stream",
     "text": [
      "['display', 'tracking', 'activity', 'fit', 'wrist', 'go']\n"
     ]
    }
   ],
   "source": [
    "#Filtering for nouns and verbs only\n",
    "nouns_verbs = [token.text for token in doc_block if token.pos_ in ('NOUN', 'VERB')]\n",
    "print(nouns_verbs[5:25])"
   ]
  },
  {
   "cell_type": "code",
   "execution_count": 156,
   "metadata": {
    "colab": {
     "base_uri": "https://localhost:8080/",
     "height": 355
    },
    "id": "Ec069wRZqUsn",
    "outputId": "83e6e7f5-dd1a-40cf-a66f-349799fee964"
   },
   "outputs": [
    {
     "data": {
      "text/html": [
       "<div>\n",
       "<style scoped>\n",
       "    .dataframe tbody tr th:only-of-type {\n",
       "        vertical-align: middle;\n",
       "    }\n",
       "\n",
       "    .dataframe tbody tr th {\n",
       "        vertical-align: top;\n",
       "    }\n",
       "\n",
       "    .dataframe thead th {\n",
       "        text-align: right;\n",
       "    }\n",
       "</style>\n",
       "<table border=\"1\" class=\"dataframe\">\n",
       "  <thead>\n",
       "    <tr style=\"text-align: right;\">\n",
       "      <th></th>\n",
       "      <th>word</th>\n",
       "      <th>count</th>\n",
       "    </tr>\n",
       "  </thead>\n",
       "  <tbody>\n",
       "    <tr>\n",
       "      <th>0</th>\n",
       "      <td>color</td>\n",
       "      <td>1</td>\n",
       "    </tr>\n",
       "    <tr>\n",
       "      <th>1</th>\n",
       "      <td>pro3</td>\n",
       "      <td>1</td>\n",
       "    </tr>\n",
       "    <tr>\n",
       "      <th>2</th>\n",
       "      <td>gift</td>\n",
       "      <td>1</td>\n",
       "    </tr>\n",
       "    <tr>\n",
       "      <th>3</th>\n",
       "      <td>love</td>\n",
       "      <td>1</td>\n",
       "    </tr>\n",
       "    <tr>\n",
       "      <th>4</th>\n",
       "      <td>watch</td>\n",
       "      <td>1</td>\n",
       "    </tr>\n",
       "    <tr>\n",
       "      <th>5</th>\n",
       "      <td>display</td>\n",
       "      <td>1</td>\n",
       "    </tr>\n",
       "    <tr>\n",
       "      <th>6</th>\n",
       "      <td>tracking</td>\n",
       "      <td>1</td>\n",
       "    </tr>\n",
       "    <tr>\n",
       "      <th>7</th>\n",
       "      <td>activity</td>\n",
       "      <td>1</td>\n",
       "    </tr>\n",
       "    <tr>\n",
       "      <th>8</th>\n",
       "      <td>fit</td>\n",
       "      <td>1</td>\n",
       "    </tr>\n",
       "    <tr>\n",
       "      <th>9</th>\n",
       "      <td>wrist</td>\n",
       "      <td>1</td>\n",
       "    </tr>\n",
       "  </tbody>\n",
       "</table>\n",
       "</div>"
      ],
      "text/plain": [
       "       word  count\n",
       "0     color      1\n",
       "1      pro3      1\n",
       "2      gift      1\n",
       "3      love      1\n",
       "4     watch      1\n",
       "5   display      1\n",
       "6  tracking      1\n",
       "7  activity      1\n",
       "8       fit      1\n",
       "9     wrist      1"
      ]
     },
     "execution_count": 156,
     "metadata": {},
     "output_type": "execute_result"
    }
   ],
   "source": [
    "#Counting tokens again\n",
    "from sklearn.feature_extraction.text import CountVectorizer\n",
    "cv = CountVectorizer()\n",
    "\n",
    "X = cv.fit_transform(nouns_verbs)\n",
    "sum_words = X.sum(axis=0)\n",
    "words_freq = [(word, sum_words[0, idx]) for word, idx in cv.vocabulary_.items()]\n",
    "words_freq =sorted(words_freq, key = lambda x: x[1], reverse=True)\n",
    "wf_df = pd.DataFrame(words_freq)\n",
    "wf_df.columns = ['word', 'count']\n",
    "\n",
    "wf_df[0:10]"
   ]
  },
  {
   "cell_type": "code",
   "execution_count": 157,
   "metadata": {
    "colab": {
     "base_uri": "https://localhost:8080/",
     "height": 562
    },
    "id": "eiNSqoPQqYoA",
    "outputId": "535c3e76-6f20-441d-9840-3d59dc6229ed"
   },
   "outputs": [
    {
     "data": {
      "text/plain": [
       "<matplotlib.axes._subplots.AxesSubplot at 0x7f1895865190>"
      ]
     },
     "execution_count": 157,
     "metadata": {},
     "output_type": "execute_result"
    },
    {
     "data": {
      "image/png": "[encoded data removed]",
      "text/plain": [
       "<Figure size 864x576 with 1 Axes>"
      ]
     },
     "metadata": {
      "needs_background": "light"
     },
     "output_type": "display_data"
    }
   ],
   "source": [
    "##Visualizing results\n",
    "#Barchart for top 10 nouns + verbs\n",
    "wf_df[0:10].plot.bar(x='word', figsize=(12,8), title='Top verbs and nouns')"
   ]
  },
  {
   "cell_type": "code",
   "execution_count": null,
   "metadata": {
    "id": "Xk7fQ0q8qjvq"
   },
   "outputs": [],
   "source": []
  },
  {
   "cell_type": "code",
   "execution_count": 159,
   "metadata": {
    "id": "3TG1mf_lqnLb"
   },
   "outputs": [],
   "source": [
    "import numpy as np # linear algebra\n",
    "import pandas as pd # data processing, CSV file I/O (e.g. pd.read_csv)\n",
    "import string # special operations on strings\n",
    "import spacy # language models\n",
    "\n",
    "from matplotlib.pyplot import imread\n",
    "from matplotlib import pyplot as plt\n",
    "from wordcloud import WordCloud\n",
    "%matplotlib inline\n",
    "\n",
    "import pandas\n",
    "book=pd.read_csv(\"/content/noise-colorfit-pro-3-smartwatch.csv\",error_bad_lines=False)\n",
    "book = [Review.strip() for Review in book.Review] # remove both the leading and the trailing characters\n",
    "book = [Review for Review in book if Review] # removes empty strings, because they are considered in Python as False"
   ]
  },
  {
   "cell_type": "code",
   "execution_count": 160,
   "metadata": {
    "colab": {
     "base_uri": "https://localhost:8080/"
    },
    "id": "7Qr65MWIxoEC",
    "outputId": "e0c8a2ee-b3ef-43ee-e797-208722638757"
   },
   "outputs": [
    {
     "name": "stdout",
     "output_type": "stream",
     "text": [
      "Requirement already satisfied: nltk in /usr/local/lib/python3.7/dist-packages (3.2.5)\n",
      "Requirement already satisfied: six in /usr/local/lib/python3.7/dist-packages (from nltk) (1.15.0)\n",
      "[nltk_data] Downloading package punkt to /root/nltk_data...\n",
      "[nltk_data]   Package punkt is already up-to-date!\n"
     ]
    },
    {
     "data": {
      "text/plain": [
       "True"
      ]
     },
     "execution_count": 160,
     "metadata": {},
     "output_type": "execute_result"
    }
   ],
   "source": [
    "!pip install nltk\n",
    "import nltk\n",
    "nltk.download('punkt')"
   ]
  },
  {
   "cell_type": "code",
   "execution_count": 161,
   "metadata": {
    "colab": {
     "base_uri": "https://localhost:8080/"
    },
    "id": "Tgu-X7p2xq9E",
    "outputId": "8cbb59c2-18bc-4da1-99a5-bca9aeb2c6e4"
   },
   "outputs": [
    {
     "data": {
      "text/plain": [
       "[\"Just a little lage may be coz I'm an iPhone user .\",\n",
       " \"Else it's fabulousREAD MORE Color fit pro3 is best and best watch!\",\n",
       " \"!It's a gift for me..i love it.The watch is good in everything like display, its tracking activity overall fit perfect in wrist just go for it!READ MORE One of the best budget Smartwatch .\",\n",
       " 'It has all the necessary features in this price range .',\n",
       " 'Heart rate and the other monitoring feature show’s the accurate results .',\n",
       " 'Very happy with the product ❤️Tips : In the beginning charge it full to get better results.READ MORE Smart watch with premium look , nice features , gud quality and also in affordable price..i love it ❤️READ MORE I am using this product on my iphone ... it is so cool.',\n",
       " 'I have also used today in gym it shows good activity tracking also has best display really loved it.',\n",
       " 'And the notifications systems are so great .',\n",
       " 'Totally the product is best in this price and display really loved full star ⭐️ .',\n",
       " \"Thank uh NoiseFitREAD MORE Pros-- accurate values- Feels premium except for the power button-Decent battery life(4-5 days with 24/7 health monitoring system)- good display..... Can't compete with amoleds but for a LCD it's too good- good watch faces-very light Cons- bluetooth connection is not that stable , like it keeps connecting and disconnecting when u pair your phone with a third device - I wish I could accept and silent the calls also when the phone is connected to my airdopes.Verdict- I like it very ...READ MORE This price range the best smart watch....Pro's : 1 Display superb 5/52 build quality 5/53 strap quality also good 4/54 other all futures are superb so good 4/55 user friendly 5/5Con's :1 connectivity issues some times disconnected automatically 2.5/5 2 battery backup not good drains little bit quickly.\"]"
      ]
     },
     "execution_count": 161,
     "metadata": {},
     "output_type": "execute_result"
    }
   ],
   "source": [
    "from nltk import tokenize\n",
    "sentences = tokenize.sent_tokenize(\" \".join(book))\n",
    "sentences[5:15]"
   ]
  },
  {
   "cell_type": "code",
   "execution_count": 162,
   "metadata": {
    "colab": {
     "base_uri": "https://localhost:8080/",
     "height": 414
    },
    "id": "Ksx-3NHix7PF",
    "outputId": "4345195d-4fbc-4125-8b7c-5f6329c65ce6"
   },
   "outputs": [
    {
     "data": {
      "text/html": [
       "<div>\n",
       "<style scoped>\n",
       "    .dataframe tbody tr th:only-of-type {\n",
       "        vertical-align: middle;\n",
       "    }\n",
       "\n",
       "    .dataframe tbody tr th {\n",
       "        vertical-align: top;\n",
       "    }\n",
       "\n",
       "    .dataframe thead th {\n",
       "        text-align: right;\n",
       "    }\n",
       "</style>\n",
       "<table border=\"1\" class=\"dataframe\">\n",
       "  <thead>\n",
       "    <tr style=\"text-align: right;\">\n",
       "      <th></th>\n",
       "      <th>sentence</th>\n",
       "    </tr>\n",
       "  </thead>\n",
       "  <tbody>\n",
       "    <tr>\n",
       "      <th>0</th>\n",
       "      <td>Awesome - 3rd Gen from the noise is as expecte...</td>\n",
       "    </tr>\n",
       "    <tr>\n",
       "      <th>1</th>\n",
       "      <td>Great work guysREAD MORE Eye catching watch.</td>\n",
       "    </tr>\n",
       "    <tr>\n",
       "      <th>2</th>\n",
       "      <td>Really beautiful specially this rose gold colo...</td>\n",
       "    </tr>\n",
       "    <tr>\n",
       "      <th>3</th>\n",
       "      <td>Must got for this watch.</td>\n",
       "    </tr>\n",
       "    <tr>\n",
       "      <th>4</th>\n",
       "      <td>For the price it's great.</td>\n",
       "    </tr>\n",
       "    <tr>\n",
       "      <th>...</th>\n",
       "      <td>...</td>\n",
       "    </tr>\n",
       "    <tr>\n",
       "      <th>326</th>\n",
       "      <td>Buy this watch only if you want to go after th...</td>\n",
       "    </tr>\n",
       "    <tr>\n",
       "      <th>327</th>\n",
       "      <td>It’s good only to view the time.</td>\n",
       "    </tr>\n",
       "    <tr>\n",
       "      <th>328</th>\n",
       "      <td>The step count function doesn’t work properly ...</td>\n",
       "    </tr>\n",
       "    <tr>\n",
       "      <th>329</th>\n",
       "      <td>Also, cannot reject calls from the watch.</td>\n",
       "    </tr>\n",
       "    <tr>\n",
       "      <th>330</th>\n",
       "      <td>Not sure of other functions but if the basic s...</td>\n",
       "    </tr>\n",
       "  </tbody>\n",
       "</table>\n",
       "<p>331 rows × 1 columns</p>\n",
       "</div>"
      ],
      "text/plain": [
       "                                              sentence\n",
       "0    Awesome - 3rd Gen from the noise is as expecte...\n",
       "1         Great work guysREAD MORE Eye catching watch.\n",
       "2    Really beautiful specially this rose gold colo...\n",
       "3                             Must got for this watch.\n",
       "4                            For the price it's great.\n",
       "..                                                 ...\n",
       "326  Buy this watch only if you want to go after th...\n",
       "327                   It’s good only to view the time.\n",
       "328  The step count function doesn’t work properly ...\n",
       "329          Also, cannot reject calls from the watch.\n",
       "330  Not sure of other functions but if the basic s...\n",
       "\n",
       "[331 rows x 1 columns]"
      ]
     },
     "execution_count": 162,
     "metadata": {},
     "output_type": "execute_result"
    }
   ],
   "source": [
    "sent_df = pd.DataFrame(sentences, columns=['sentence'])\n",
    "sent_df"
   ]
  },
  {
   "cell_type": "code",
   "execution_count": 163,
   "metadata": {
    "colab": {
     "base_uri": "https://localhost:8080/"
    },
    "id": "-YgAOCQZzMb_",
    "outputId": "5d0c15e9-a0fd-43ff-a6b2-3221ca1d47b7"
   },
   "outputs": [
    {
     "data": {
      "text/plain": [
       "(2477, 2)"
      ]
     },
     "execution_count": 163,
     "metadata": {},
     "output_type": "execute_result"
    }
   ],
   "source": [
    "#Sentiment analysis\n",
    "afinn = pd.read_csv('Afinn.csv', sep=',', encoding='latin-1')\n",
    "afinn.shape"
   ]
  },
  {
   "cell_type": "code",
   "execution_count": 164,
   "metadata": {
    "id": "sB6y7H2r00eP"
   },
   "outputs": [],
   "source": [
    "affinity_scores = afinn.set_index('word')['value'].to_dict()"
   ]
  },
  {
   "cell_type": "code",
   "execution_count": 165,
   "metadata": {
    "id": "vFPTYvDm04-a"
   },
   "outputs": [],
   "source": [
    "#Custom function :score each word in a sentence in lemmatised form, \n",
    "#but calculate the score for the whole original sentence.\n",
    "nlp = spacy.load('en')\n",
    "sentiment_lexicon = affinity_scores\n",
    "\n",
    "def calculate_sentiment(text: str = None):\n",
    "    sent_score = 0\n",
    "    if text:\n",
    "        sentence = nlp(text)\n",
    "        for word in sentence:\n",
    "            sent_score += sentiment_lexicon.get(word.lemma_, 0)\n",
    "    return sent_score"
   ]
  },
  {
   "cell_type": "code",
   "execution_count": 166,
   "metadata": {
    "colab": {
     "base_uri": "https://localhost:8080/"
    },
    "id": "chPNBB-X069C",
    "outputId": "9bc229d8-ef69-4e8e-8cf1-fceb7e403fce"
   },
   "outputs": [
    {
     "data": {
      "text/plain": [
       "3"
      ]
     },
     "execution_count": 166,
     "metadata": {},
     "output_type": "execute_result"
    }
   ],
   "source": [
    "# test that it works\n",
    "calculate_sentiment(text = 'best')"
   ]
  },
  {
   "cell_type": "code",
   "execution_count": 167,
   "metadata": {
    "colab": {
     "base_uri": "https://localhost:8080/"
    },
    "id": "ClJp36fe09WS",
    "outputId": "71f82b45-511c-4dc6-8740-95069beae9e1"
   },
   "outputs": [
    {
     "data": {
      "text/plain": [
       "0    16\n",
       "1     7\n",
       "2    10\n",
       "3     5\n",
       "4     5\n",
       "5    12\n",
       "6    12\n",
       "7    34\n",
       "8    11\n",
       "9    12\n",
       "Name: word_count, dtype: int64"
      ]
     },
     "execution_count": 167,
     "metadata": {},
     "output_type": "execute_result"
    }
   ],
   "source": [
    "# how many words are in the sentence?\n",
    "sent_df['word_count'] = sent_df['sentence'].str.split().apply(len)\n",
    "sent_df['word_count'].head(10)"
   ]
  },
  {
   "cell_type": "code",
   "execution_count": 168,
   "metadata": {
    "colab": {
     "base_uri": "https://localhost:8080/",
     "height": 414
    },
    "id": "hvdQjD-e1Jhk",
    "outputId": "a6cfd6cf-897b-4ce5-a761-725e644dfb51"
   },
   "outputs": [
    {
     "data": {
      "text/html": [
       "<div>\n",
       "<style scoped>\n",
       "    .dataframe tbody tr th:only-of-type {\n",
       "        vertical-align: middle;\n",
       "    }\n",
       "\n",
       "    .dataframe tbody tr th {\n",
       "        vertical-align: top;\n",
       "    }\n",
       "\n",
       "    .dataframe thead th {\n",
       "        text-align: right;\n",
       "    }\n",
       "</style>\n",
       "<table border=\"1\" class=\"dataframe\">\n",
       "  <thead>\n",
       "    <tr style=\"text-align: right;\">\n",
       "      <th></th>\n",
       "      <th>sentence</th>\n",
       "      <th>word_count</th>\n",
       "    </tr>\n",
       "  </thead>\n",
       "  <tbody>\n",
       "    <tr>\n",
       "      <th>0</th>\n",
       "      <td>Awesome - 3rd Gen from the noise is as expecte...</td>\n",
       "      <td>16</td>\n",
       "    </tr>\n",
       "    <tr>\n",
       "      <th>1</th>\n",
       "      <td>Great work guysREAD MORE Eye catching watch.</td>\n",
       "      <td>7</td>\n",
       "    </tr>\n",
       "    <tr>\n",
       "      <th>2</th>\n",
       "      <td>Really beautiful specially this rose gold colo...</td>\n",
       "      <td>10</td>\n",
       "    </tr>\n",
       "    <tr>\n",
       "      <th>3</th>\n",
       "      <td>Must got for this watch.</td>\n",
       "      <td>5</td>\n",
       "    </tr>\n",
       "    <tr>\n",
       "      <th>4</th>\n",
       "      <td>For the price it's great.</td>\n",
       "      <td>5</td>\n",
       "    </tr>\n",
       "    <tr>\n",
       "      <th>...</th>\n",
       "      <td>...</td>\n",
       "      <td>...</td>\n",
       "    </tr>\n",
       "    <tr>\n",
       "      <th>326</th>\n",
       "      <td>Buy this watch only if you want to go after th...</td>\n",
       "      <td>12</td>\n",
       "    </tr>\n",
       "    <tr>\n",
       "      <th>327</th>\n",
       "      <td>It’s good only to view the time.</td>\n",
       "      <td>7</td>\n",
       "    </tr>\n",
       "    <tr>\n",
       "      <th>328</th>\n",
       "      <td>The step count function doesn’t work properly ...</td>\n",
       "      <td>16</td>\n",
       "    </tr>\n",
       "    <tr>\n",
       "      <th>329</th>\n",
       "      <td>Also, cannot reject calls from the watch.</td>\n",
       "      <td>7</td>\n",
       "    </tr>\n",
       "    <tr>\n",
       "      <th>330</th>\n",
       "      <td>Not sure of other functions but if the basic s...</td>\n",
       "      <td>23</td>\n",
       "    </tr>\n",
       "  </tbody>\n",
       "</table>\n",
       "<p>331 rows × 2 columns</p>\n",
       "</div>"
      ],
      "text/plain": [
       "                                              sentence  word_count\n",
       "0    Awesome - 3rd Gen from the noise is as expecte...          16\n",
       "1         Great work guysREAD MORE Eye catching watch.           7\n",
       "2    Really beautiful specially this rose gold colo...          10\n",
       "3                             Must got for this watch.           5\n",
       "4                            For the price it's great.           5\n",
       "..                                                 ...         ...\n",
       "326  Buy this watch only if you want to go after th...          12\n",
       "327                   It’s good only to view the time.           7\n",
       "328  The step count function doesn’t work properly ...          16\n",
       "329          Also, cannot reject calls from the watch.           7\n",
       "330  Not sure of other functions but if the basic s...          23\n",
       "\n",
       "[331 rows x 2 columns]"
      ]
     },
     "execution_count": 168,
     "metadata": {},
     "output_type": "execute_result"
    }
   ],
   "source": [
    "sent_df"
   ]
  },
  {
   "cell_type": "code",
   "execution_count": 169,
   "metadata": {
    "id": "uto6ufG91Apk"
   },
   "outputs": [],
   "source": [
    "sent_df['sentiment_value'] = sent_df['sentence'].apply(calculate_sentiment)"
   ]
  },
  {
   "cell_type": "code",
   "execution_count": 170,
   "metadata": {
    "colab": {
     "base_uri": "https://localhost:8080/"
    },
    "id": "RZywtIpm1Ewn",
    "outputId": "fccbaf78-919e-4272-99c2-bf8102430c7c"
   },
   "outputs": [
    {
     "data": {
      "text/plain": [
       "0    16\n",
       "1     7\n",
       "2    10\n",
       "3     5\n",
       "4     5\n",
       "5    12\n",
       "6    12\n",
       "7    34\n",
       "8    11\n",
       "9    12\n",
       "Name: word_count, dtype: int64"
      ]
     },
     "execution_count": 170,
     "metadata": {},
     "output_type": "execute_result"
    }
   ],
   "source": [
    "# how many words are in the sentence?\n",
    "sent_df['word_count'] = sent_df['sentence'].str.split().apply(len)\n",
    "sent_df['word_count'].head(10)"
   ]
  },
  {
   "cell_type": "code",
   "execution_count": 171,
   "metadata": {
    "colab": {
     "base_uri": "https://localhost:8080/",
     "height": 414
    },
    "id": "MrviZA3-1_tn",
    "outputId": "1b114173-dc83-4289-befb-87405aa1ff19"
   },
   "outputs": [
    {
     "data": {
      "text/html": [
       "<div>\n",
       "<style scoped>\n",
       "    .dataframe tbody tr th:only-of-type {\n",
       "        vertical-align: middle;\n",
       "    }\n",
       "\n",
       "    .dataframe tbody tr th {\n",
       "        vertical-align: top;\n",
       "    }\n",
       "\n",
       "    .dataframe thead th {\n",
       "        text-align: right;\n",
       "    }\n",
       "</style>\n",
       "<table border=\"1\" class=\"dataframe\">\n",
       "  <thead>\n",
       "    <tr style=\"text-align: right;\">\n",
       "      <th></th>\n",
       "      <th>sentence</th>\n",
       "      <th>word_count</th>\n",
       "      <th>sentiment_value</th>\n",
       "    </tr>\n",
       "  </thead>\n",
       "  <tbody>\n",
       "    <tr>\n",
       "      <th>0</th>\n",
       "      <td>Awesome - 3rd Gen from the noise is as expecte...</td>\n",
       "      <td>16</td>\n",
       "      <td>8</td>\n",
       "    </tr>\n",
       "    <tr>\n",
       "      <th>1</th>\n",
       "      <td>Great work guysREAD MORE Eye catching watch.</td>\n",
       "      <td>7</td>\n",
       "      <td>3</td>\n",
       "    </tr>\n",
       "    <tr>\n",
       "      <th>2</th>\n",
       "      <td>Really beautiful specially this rose gold colo...</td>\n",
       "      <td>10</td>\n",
       "      <td>6</td>\n",
       "    </tr>\n",
       "    <tr>\n",
       "      <th>3</th>\n",
       "      <td>Must got for this watch.</td>\n",
       "      <td>5</td>\n",
       "      <td>0</td>\n",
       "    </tr>\n",
       "    <tr>\n",
       "      <th>4</th>\n",
       "      <td>For the price it's great.</td>\n",
       "      <td>5</td>\n",
       "      <td>3</td>\n",
       "    </tr>\n",
       "    <tr>\n",
       "      <th>...</th>\n",
       "      <td>...</td>\n",
       "      <td>...</td>\n",
       "      <td>...</td>\n",
       "    </tr>\n",
       "    <tr>\n",
       "      <th>326</th>\n",
       "      <td>Buy this watch only if you want to go after th...</td>\n",
       "      <td>12</td>\n",
       "      <td>1</td>\n",
       "    </tr>\n",
       "    <tr>\n",
       "      <th>327</th>\n",
       "      <td>It’s good only to view the time.</td>\n",
       "      <td>7</td>\n",
       "      <td>3</td>\n",
       "    </tr>\n",
       "    <tr>\n",
       "      <th>328</th>\n",
       "      <td>The step count function doesn’t work properly ...</td>\n",
       "      <td>16</td>\n",
       "      <td>-2</td>\n",
       "    </tr>\n",
       "    <tr>\n",
       "      <th>329</th>\n",
       "      <td>Also, cannot reject calls from the watch.</td>\n",
       "      <td>7</td>\n",
       "      <td>-1</td>\n",
       "    </tr>\n",
       "    <tr>\n",
       "      <th>330</th>\n",
       "      <td>Not sure of other functions but if the basic s...</td>\n",
       "      <td>23</td>\n",
       "      <td>0</td>\n",
       "    </tr>\n",
       "  </tbody>\n",
       "</table>\n",
       "<p>331 rows × 3 columns</p>\n",
       "</div>"
      ],
      "text/plain": [
       "                                              sentence  ...  sentiment_value\n",
       "0    Awesome - 3rd Gen from the noise is as expecte...  ...                8\n",
       "1         Great work guysREAD MORE Eye catching watch.  ...                3\n",
       "2    Really beautiful specially this rose gold colo...  ...                6\n",
       "3                             Must got for this watch.  ...                0\n",
       "4                            For the price it's great.  ...                3\n",
       "..                                                 ...  ...              ...\n",
       "326  Buy this watch only if you want to go after th...  ...                1\n",
       "327                   It’s good only to view the time.  ...                3\n",
       "328  The step count function doesn’t work properly ...  ...               -2\n",
       "329          Also, cannot reject calls from the watch.  ...               -1\n",
       "330  Not sure of other functions but if the basic s...  ...                0\n",
       "\n",
       "[331 rows x 3 columns]"
      ]
     },
     "execution_count": 171,
     "metadata": {},
     "output_type": "execute_result"
    }
   ],
   "source": [
    "sent_df"
   ]
  },
  {
   "cell_type": "code",
   "execution_count": 172,
   "metadata": {
    "colab": {
     "base_uri": "https://localhost:8080/",
     "height": 355
    },
    "id": "9kYcNNxV2AMp",
    "outputId": "d3512672-1df2-470c-b062-5748ed22f131"
   },
   "outputs": [
    {
     "data": {
      "text/html": [
       "<div>\n",
       "<style scoped>\n",
       "    .dataframe tbody tr th:only-of-type {\n",
       "        vertical-align: middle;\n",
       "    }\n",
       "\n",
       "    .dataframe tbody tr th {\n",
       "        vertical-align: top;\n",
       "    }\n",
       "\n",
       "    .dataframe thead th {\n",
       "        text-align: right;\n",
       "    }\n",
       "</style>\n",
       "<table border=\"1\" class=\"dataframe\">\n",
       "  <thead>\n",
       "    <tr style=\"text-align: right;\">\n",
       "      <th></th>\n",
       "      <th>sentence</th>\n",
       "      <th>word_count</th>\n",
       "      <th>sentiment_value</th>\n",
       "    </tr>\n",
       "  </thead>\n",
       "  <tbody>\n",
       "    <tr>\n",
       "      <th>256</th>\n",
       "      <td>Thank uh NoiseFitREAD MORE Pros-- accurate val...</td>\n",
       "      <td>135</td>\n",
       "      <td>41</td>\n",
       "    </tr>\n",
       "    <tr>\n",
       "      <th>234</th>\n",
       "      <td>Thank uh NoiseFitREAD MORE Pros-- accurate val...</td>\n",
       "      <td>135</td>\n",
       "      <td>41</td>\n",
       "    </tr>\n",
       "    <tr>\n",
       "      <th>146</th>\n",
       "      <td>Thank uh NoiseFitREAD MORE Pros-- accurate val...</td>\n",
       "      <td>135</td>\n",
       "      <td>41</td>\n",
       "    </tr>\n",
       "    <tr>\n",
       "      <th>278</th>\n",
       "      <td>Thank uh NoiseFitREAD MORE Pros-- accurate val...</td>\n",
       "      <td>135</td>\n",
       "      <td>41</td>\n",
       "    </tr>\n",
       "    <tr>\n",
       "      <th>36</th>\n",
       "      <td>Thank uh NoiseFitREAD MORE Pros-- accurate val...</td>\n",
       "      <td>135</td>\n",
       "      <td>41</td>\n",
       "    </tr>\n",
       "    <tr>\n",
       "      <th>124</th>\n",
       "      <td>Thank uh NoiseFitREAD MORE Pros-- accurate val...</td>\n",
       "      <td>135</td>\n",
       "      <td>41</td>\n",
       "    </tr>\n",
       "    <tr>\n",
       "      <th>190</th>\n",
       "      <td>Thank uh NoiseFitREAD MORE Pros-- accurate val...</td>\n",
       "      <td>135</td>\n",
       "      <td>41</td>\n",
       "    </tr>\n",
       "    <tr>\n",
       "      <th>58</th>\n",
       "      <td>Thank uh NoiseFitREAD MORE Pros-- accurate val...</td>\n",
       "      <td>135</td>\n",
       "      <td>41</td>\n",
       "    </tr>\n",
       "    <tr>\n",
       "      <th>322</th>\n",
       "      <td>Thank uh NoiseFitREAD MORE Pros-- accurate val...</td>\n",
       "      <td>135</td>\n",
       "      <td>41</td>\n",
       "    </tr>\n",
       "    <tr>\n",
       "      <th>80</th>\n",
       "      <td>Thank uh NoiseFitREAD MORE Pros-- accurate val...</td>\n",
       "      <td>135</td>\n",
       "      <td>41</td>\n",
       "    </tr>\n",
       "  </tbody>\n",
       "</table>\n",
       "</div>"
      ],
      "text/plain": [
       "                                              sentence  ...  sentiment_value\n",
       "256  Thank uh NoiseFitREAD MORE Pros-- accurate val...  ...               41\n",
       "234  Thank uh NoiseFitREAD MORE Pros-- accurate val...  ...               41\n",
       "146  Thank uh NoiseFitREAD MORE Pros-- accurate val...  ...               41\n",
       "278  Thank uh NoiseFitREAD MORE Pros-- accurate val...  ...               41\n",
       "36   Thank uh NoiseFitREAD MORE Pros-- accurate val...  ...               41\n",
       "124  Thank uh NoiseFitREAD MORE Pros-- accurate val...  ...               41\n",
       "190  Thank uh NoiseFitREAD MORE Pros-- accurate val...  ...               41\n",
       "58   Thank uh NoiseFitREAD MORE Pros-- accurate val...  ...               41\n",
       "322  Thank uh NoiseFitREAD MORE Pros-- accurate val...  ...               41\n",
       "80   Thank uh NoiseFitREAD MORE Pros-- accurate val...  ...               41\n",
       "\n",
       "[10 rows x 3 columns]"
      ]
     },
     "execution_count": 172,
     "metadata": {},
     "output_type": "execute_result"
    }
   ],
   "source": [
    "sent_df.sort_values(by='sentiment_value').tail(10)"
   ]
  },
  {
   "cell_type": "code",
   "execution_count": 173,
   "metadata": {
    "colab": {
     "base_uri": "https://localhost:8080/"
    },
    "id": "JACdnu342QDv",
    "outputId": "93453217-156b-46ed-ef84-661754ae6cac"
   },
   "outputs": [
    {
     "data": {
      "text/plain": [
       "count    331.000000\n",
       "mean       5.981873\n",
       "std        8.807003\n",
       "min       -2.000000\n",
       "25%        0.000000\n",
       "50%        3.000000\n",
       "75%        7.000000\n",
       "max       41.000000\n",
       "Name: sentiment_value, dtype: float64"
      ]
     },
     "execution_count": 173,
     "metadata": {},
     "output_type": "execute_result"
    }
   ],
   "source": [
    "# Sentiment score of the whole review\n",
    "sent_df['sentiment_value'].describe()"
   ]
  },
  {
   "cell_type": "code",
   "execution_count": 174,
   "metadata": {
    "colab": {
     "base_uri": "https://localhost:8080/",
     "height": 202
    },
    "id": "y32ebfCD2Teu",
    "outputId": "286abedc-57bb-480d-f75d-7bd3c4bd11fc"
   },
   "outputs": [
    {
     "data": {
      "text/html": [
       "<div>\n",
       "<style scoped>\n",
       "    .dataframe tbody tr th:only-of-type {\n",
       "        vertical-align: middle;\n",
       "    }\n",
       "\n",
       "    .dataframe tbody tr th {\n",
       "        vertical-align: top;\n",
       "    }\n",
       "\n",
       "    .dataframe thead th {\n",
       "        text-align: right;\n",
       "    }\n",
       "</style>\n",
       "<table border=\"1\" class=\"dataframe\">\n",
       "  <thead>\n",
       "    <tr style=\"text-align: right;\">\n",
       "      <th></th>\n",
       "      <th>sentence</th>\n",
       "      <th>word_count</th>\n",
       "      <th>sentiment_value</th>\n",
       "    </tr>\n",
       "  </thead>\n",
       "  <tbody>\n",
       "    <tr>\n",
       "      <th>14</th>\n",
       "      <td>Thank uh NoiseFitREAD MORE Pros-- accurate val...</td>\n",
       "      <td>135</td>\n",
       "      <td>41</td>\n",
       "    </tr>\n",
       "    <tr>\n",
       "      <th>36</th>\n",
       "      <td>Thank uh NoiseFitREAD MORE Pros-- accurate val...</td>\n",
       "      <td>135</td>\n",
       "      <td>41</td>\n",
       "    </tr>\n",
       "    <tr>\n",
       "      <th>58</th>\n",
       "      <td>Thank uh NoiseFitREAD MORE Pros-- accurate val...</td>\n",
       "      <td>135</td>\n",
       "      <td>41</td>\n",
       "    </tr>\n",
       "    <tr>\n",
       "      <th>80</th>\n",
       "      <td>Thank uh NoiseFitREAD MORE Pros-- accurate val...</td>\n",
       "      <td>135</td>\n",
       "      <td>41</td>\n",
       "    </tr>\n",
       "    <tr>\n",
       "      <th>102</th>\n",
       "      <td>Thank uh NoiseFitREAD MORE Pros-- accurate val...</td>\n",
       "      <td>135</td>\n",
       "      <td>41</td>\n",
       "    </tr>\n",
       "  </tbody>\n",
       "</table>\n",
       "</div>"
      ],
      "text/plain": [
       "                                              sentence  ...  sentiment_value\n",
       "14   Thank uh NoiseFitREAD MORE Pros-- accurate val...  ...               41\n",
       "36   Thank uh NoiseFitREAD MORE Pros-- accurate val...  ...               41\n",
       "58   Thank uh NoiseFitREAD MORE Pros-- accurate val...  ...               41\n",
       "80   Thank uh NoiseFitREAD MORE Pros-- accurate val...  ...               41\n",
       "102  Thank uh NoiseFitREAD MORE Pros-- accurate val...  ...               41\n",
       "\n",
       "[5 rows x 3 columns]"
      ]
     },
     "execution_count": 174,
     "metadata": {},
     "output_type": "execute_result"
    }
   ],
   "source": [
    "sent_df[sent_df['sentiment_value']>=20].head()"
   ]
  },
  {
   "cell_type": "code",
   "execution_count": 175,
   "metadata": {
    "id": "IhT5ho7E2T4F"
   },
   "outputs": [],
   "source": [
    "sent_df['index']=range(0,len(sent_df))"
   ]
  },
  {
   "cell_type": "code",
   "execution_count": 176,
   "metadata": {
    "colab": {
     "base_uri": "https://localhost:8080/",
     "height": 353
    },
    "id": "micpSEdy2XOG",
    "outputId": "95198f55-dc12-445e-ee46-cfcd1a5be269"
   },
   "outputs": [
    {
     "name": "stderr",
     "output_type": "stream",
     "text": [
      "/usr/local/lib/python3.7/dist-packages/seaborn/distributions.py:2557: FutureWarning: `distplot` is a deprecated function and will be removed in a future version. Please adapt your code to use either `displot` (a figure-level function with similar flexibility) or `histplot` (an axes-level function for histograms).\n",
      "  warnings.warn(msg, FutureWarning)\n"
     ]
    },
    {
     "data": {
      "text/plain": [
       "<matplotlib.axes._subplots.AxesSubplot at 0x7f189a463790>"
      ]
     },
     "execution_count": 176,
     "metadata": {},
     "output_type": "execute_result"
    },
    {
     "data": {
      "image/png": "[encoded data removed]",
      "text/plain": [
       "<Figure size 432x288 with 1 Axes>"
      ]
     },
     "metadata": {
      "needs_background": "light"
     },
     "output_type": "display_data"
    }
   ],
   "source": [
    "import seaborn as sns\n",
    "import matplotlib.pyplot as plt\n",
    "sns.distplot(sent_df['sentiment_value'])"
   ]
  },
  {
   "cell_type": "code",
   "execution_count": 177,
   "metadata": {
    "colab": {
     "base_uri": "https://localhost:8080/"
    },
    "id": "8ZpwvOyM2Y95",
    "outputId": "4089abdb-57e6-4747-f564-ddf4603553dd"
   },
   "outputs": [
    {
     "data": {
      "text/plain": [
       " 0     61\n",
       " 6     60\n",
       " 3     60\n",
       "-1     15\n",
       " 41    15\n",
       " 17    15\n",
       " 11    15\n",
       "-2     15\n",
       " 9     15\n",
       " 8     15\n",
       " 7     15\n",
       " 5     15\n",
       " 1     15\n",
       "Name: sentiment_value, dtype: int64"
      ]
     },
     "execution_count": 177,
     "metadata": {},
     "output_type": "execute_result"
    }
   ],
   "source": [
    "sent_df.sentiment_value.value_counts()"
   ]
  },
  {
   "cell_type": "markdown",
   "metadata": {},
   "source": [
    "Visualization"
   ]
  },
  {
   "cell_type": "code",
   "execution_count": 178,
   "metadata": {
    "colab": {
     "base_uri": "https://localhost:8080/",
     "height": 623
    },
    "id": "g3K-NSfn2teu",
    "outputId": "4ddb47ad-7072-42a0-aa05-66b6a1d201f3"
   },
   "outputs": [
    {
     "data": {
      "text/plain": [
       "<matplotlib.axes._subplots.AxesSubplot at 0x7f18940af690>"
      ]
     },
     "execution_count": 178,
     "metadata": {},
     "output_type": "execute_result"
    },
    {
     "data": {
      "image/png": "[encoded data removed]",
      "text/plain": [
       "<Figure size 1080x720 with 1 Axes>"
      ]
     },
     "metadata": {
      "needs_background": "light"
     },
     "output_type": "display_data"
    }
   ],
   "source": [
    "plt.figure(figsize=(15, 10))\n",
    "sns.lineplot(y='sentiment_value',x='index',data=sent_df)"
   ]
  },
  {
   "cell_type": "code",
   "execution_count": 179,
   "metadata": {
    "colab": {
     "base_uri": "https://localhost:8080/",
     "height": 532
    },
    "id": "eRO2SOvj2t6e",
    "outputId": "fa112df2-dee2-42ff-bae0-3420398e8caa"
   },
   "outputs": [
    {
     "data": {
      "text/plain": [
       "<matplotlib.axes._subplots.AxesSubplot at 0x7f18b0d23fd0>"
      ]
     },
     "execution_count": 179,
     "metadata": {},
     "output_type": "execute_result"
    },
    {
     "data": {
      "image/png": "[encoded data removed]",
      "text/plain": [
       "<Figure size 576x576 with 1 Axes>"
      ]
     },
     "metadata": {
      "needs_background": "light"
     },
     "output_type": "display_data"
    }
   ],
   "source": [
    "sent_df.plot.scatter(x='word_count', y='sentiment_value', figsize=(8,8), title='Sentence sentiment value to sentence word count')"
   ]
  },
  {
   "cell_type": "code",
   "execution_count": null,
   "metadata": {
    "id": "W8ITc7Su2xfE"
   },
   "outputs": [],
   "source": []
  }
 ],
 "metadata": {
  "colab": {
   "collapsed_sections": [],
   "name": "Assignment11- Text Mining - Online data.ipynb",
   "provenance": []
  },
  "kernelspec": {
   "display_name": "Python 3 (ipykernel)",
   "language": "python",
   "name": "python3"
  },
  "language_info": {
   "codemirror_mode": {
    "name": "ipython",
    "version": 3
   },
   "file_extension": ".py",
   "mimetype": "text/x-python",
   "name": "python",
   "nbconvert_exporter": "python",
   "pygments_lexer": "ipython3",
   "version": "3.9.13"
  }
 },
 "nbformat": 4,
 "nbformat_minor": 1
}
